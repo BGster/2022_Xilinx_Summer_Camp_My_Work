{
 "cells": [
  {
   "cell_type": "code",
   "execution_count": 1,
   "metadata": {},
   "outputs": [
    {
     "data": {
      "application/javascript": [
       "\n",
       "require(['notebook/js/codecell'], function(codecell) {\n",
       "  codecell.CodeCell.options_default.highlight_modes[\n",
       "      'magic_text/x-csrc'] = {'reg':[/^%%microblaze/]};\n",
       "  Jupyter.notebook.events.one('kernel_ready.Kernel', function(){\n",
       "      Jupyter.notebook.get_cells().map(function(cell){\n",
       "          if (cell.cell_type == 'code'){ cell.auto_highlight(); } }) ;\n",
       "  });\n",
       "});\n"
      ]
     },
     "metadata": {},
     "output_type": "display_data"
    },
    {
     "data": {
      "text/plain": [
       "{'dft_0': {'addr_range': 65536,\n",
       "  'driver': pynq.overlay.DefaultIP,\n",
       "  'fullpath': 'dft_0',\n",
       "  'gpio': {},\n",
       "  'interrupts': {},\n",
       "  'mem_id': 's_axi_AXILiteS',\n",
       "  'parameters': {'C_M_AXI_GMEM_ADDR_WIDTH': '32',\n",
       "   'C_M_AXI_GMEM_ARUSER_WIDTH': '1',\n",
       "   'C_M_AXI_GMEM_AWUSER_WIDTH': '1',\n",
       "   'C_M_AXI_GMEM_BUSER_WIDTH': '1',\n",
       "   'C_M_AXI_GMEM_CACHE_VALUE': '\"0011\"',\n",
       "   'C_M_AXI_GMEM_DATA_WIDTH': '32',\n",
       "   'C_M_AXI_GMEM_ENABLE_ID_PORTS': 'false',\n",
       "   'C_M_AXI_GMEM_ENABLE_USER_PORTS': 'false',\n",
       "   'C_M_AXI_GMEM_ID_WIDTH': '1',\n",
       "   'C_M_AXI_GMEM_PROT_VALUE': '\"000\"',\n",
       "   'C_M_AXI_GMEM_RUSER_WIDTH': '1',\n",
       "   'C_M_AXI_GMEM_USER_VALUE': '0x00000000',\n",
       "   'C_M_AXI_GMEM_WUSER_WIDTH': '1',\n",
       "   'C_S_AXI_AXILITES_ADDR_WIDTH': '6',\n",
       "   'C_S_AXI_AXILITES_BASEADDR': '0x43C00000',\n",
       "   'C_S_AXI_AXILITES_DATA_WIDTH': '32',\n",
       "   'C_S_AXI_AXILITES_HIGHADDR': '0x43C0FFFF',\n",
       "   'Component_Name': 'DFT_Test_dft_0_2',\n",
       "   'EDK_IPTYPE': 'PERIPHERAL',\n",
       "   'II': 'x',\n",
       "   'clk_period': '10',\n",
       "   'combinational': '0',\n",
       "   'latency': '7340058',\n",
       "   'machine': '64'},\n",
       "  'phys_addr': 1136656384,\n",
       "  'registers': {'CTRL': {'access': 'read-write',\n",
       "    'address_offset': 0,\n",
       "    'description': 'Control signals',\n",
       "    'fields': {'AP_DONE': {'access': 'read-only',\n",
       "      'bit_offset': 1,\n",
       "      'bit_width': 1,\n",
       "      'description': 'Control signals'},\n",
       "     'AP_IDLE': {'access': 'read-only',\n",
       "      'bit_offset': 2,\n",
       "      'bit_width': 1,\n",
       "      'description': 'Control signals'},\n",
       "     'AP_READY': {'access': 'read-only',\n",
       "      'bit_offset': 3,\n",
       "      'bit_width': 1,\n",
       "      'description': 'Control signals'},\n",
       "     'AP_START': {'access': 'read-write',\n",
       "      'bit_offset': 0,\n",
       "      'bit_width': 1,\n",
       "      'description': 'Control signals'},\n",
       "     'AUTO_RESTART': {'access': 'read-write',\n",
       "      'bit_offset': 7,\n",
       "      'bit_width': 1,\n",
       "      'description': 'Control signals'},\n",
       "     'RESERVED_1': {'access': 'read-only',\n",
       "      'bit_offset': 4,\n",
       "      'bit_width': 3,\n",
       "      'description': 'Control signals'},\n",
       "     'RESERVED_2': {'access': 'read-only',\n",
       "      'bit_offset': 8,\n",
       "      'bit_width': 24,\n",
       "      'description': 'Control signals'}},\n",
       "    'size': 32},\n",
       "   'GIER': {'access': 'read-write',\n",
       "    'address_offset': 4,\n",
       "    'description': 'Global Interrupt Enable Register',\n",
       "    'fields': {'Enable': {'access': 'read-write',\n",
       "      'bit_offset': 0,\n",
       "      'bit_width': 1,\n",
       "      'description': 'Global Interrupt Enable Register'},\n",
       "     'RESERVED': {'access': 'read-only',\n",
       "      'bit_offset': 1,\n",
       "      'bit_width': 31,\n",
       "      'description': 'Global Interrupt Enable Register'}},\n",
       "    'size': 32},\n",
       "   'IP_IER': {'access': 'read-write',\n",
       "    'address_offset': 8,\n",
       "    'description': 'IP Interrupt Enable Register',\n",
       "    'fields': {'CHAN0_INT_EN': {'access': 'read-write',\n",
       "      'bit_offset': 0,\n",
       "      'bit_width': 1,\n",
       "      'description': 'IP Interrupt Enable Register'},\n",
       "     'CHAN1_INT_EN': {'access': 'read-write',\n",
       "      'bit_offset': 1,\n",
       "      'bit_width': 1,\n",
       "      'description': 'IP Interrupt Enable Register'},\n",
       "     'RESERVED': {'access': 'read-only',\n",
       "      'bit_offset': 2,\n",
       "      'bit_width': 30,\n",
       "      'description': 'IP Interrupt Enable Register'}},\n",
       "    'size': 32},\n",
       "   'IP_ISR': {'access': 'read-write',\n",
       "    'address_offset': 12,\n",
       "    'description': 'IP Interrupt Status Register',\n",
       "    'fields': {'CHAN0_INT_ST': {'access': 'read-only',\n",
       "      'bit_offset': 0,\n",
       "      'bit_width': 1,\n",
       "      'description': 'IP Interrupt Status Register'},\n",
       "     'CHAN1_INT_ST': {'access': 'read-only',\n",
       "      'bit_offset': 1,\n",
       "      'bit_width': 1,\n",
       "      'description': 'IP Interrupt Status Register'},\n",
       "     'RESERVED': {'access': 'read-only',\n",
       "      'bit_offset': 2,\n",
       "      'bit_width': 30,\n",
       "      'description': 'IP Interrupt Status Register'}},\n",
       "    'size': 32},\n",
       "   'imag_op': {'access': 'write-only',\n",
       "    'address_offset': 40,\n",
       "    'description': 'Data signal of imag_op',\n",
       "    'fields': {'imag_op': {'access': 'write-only',\n",
       "      'bit_offset': 0,\n",
       "      'bit_width': 32,\n",
       "      'description': 'Data signal of imag_op'}},\n",
       "    'size': 32},\n",
       "   'imag_sample': {'access': 'write-only',\n",
       "    'address_offset': 24,\n",
       "    'description': 'Data signal of imag_sample',\n",
       "    'fields': {'imag_sample': {'access': 'write-only',\n",
       "      'bit_offset': 0,\n",
       "      'bit_width': 32,\n",
       "      'description': 'Data signal of imag_sample'}},\n",
       "    'size': 32},\n",
       "   'real_op': {'access': 'write-only',\n",
       "    'address_offset': 32,\n",
       "    'description': 'Data signal of real_op',\n",
       "    'fields': {'real_op': {'access': 'write-only',\n",
       "      'bit_offset': 0,\n",
       "      'bit_width': 32,\n",
       "      'description': 'Data signal of real_op'}},\n",
       "    'size': 32},\n",
       "   'real_sample': {'access': 'write-only',\n",
       "    'address_offset': 16,\n",
       "    'description': 'Data signal of real_sample',\n",
       "    'fields': {'real_sample': {'access': 'write-only',\n",
       "      'bit_offset': 0,\n",
       "      'bit_width': 32,\n",
       "      'description': 'Data signal of real_sample'}},\n",
       "    'size': 32}},\n",
       "  'state': None,\n",
       "  'type': 'xilinx.com:hls:dft:1.0'}}"
      ]
     },
     "execution_count": 1,
     "metadata": {},
     "output_type": "execute_result"
    }
   ],
   "source": [
    "from pynq import Overlay\n",
    "from pynq import Xlnk # replace with allocate for Pynq >= 2.7\n",
    "from time import time,sleep\n",
    "\n",
    "import numpy as np\n",
    "\n",
    "ol = Overlay('DFT_Test.bit')\n",
    "ol.ip_dict"
   ]
  },
  {
   "cell_type": "code",
   "execution_count": 2,
   "metadata": {},
   "outputs": [],
   "source": [
    "from pynq import Clocks\n",
    "Clocks.fclk0_mhz = 150"
   ]
  },
  {
   "cell_type": "code",
   "execution_count": 3,
   "metadata": {},
   "outputs": [],
   "source": [
    "length = 1024\n",
    "in_real = Xlnk().cma_array(shape=(length,), dtype=np.float32)\n",
    "in_imag = Xlnk().cma_array(shape=(length,), dtype=np.float32)\n",
    "out_real = Xlnk().cma_array(shape=(length,), dtype=np.float32)\n",
    "out_imag = Xlnk().cma_array(shape=(length,), dtype=np.float32)"
   ]
  },
  {
   "cell_type": "code",
   "execution_count": 4,
   "metadata": {},
   "outputs": [],
   "source": [
    "for i in range(1024):\n",
    "    in_real[i] = i\n",
    "    in_imag[i] = -i"
   ]
  },
  {
   "cell_type": "code",
   "execution_count": 5,
   "metadata": {},
   "outputs": [],
   "source": [
    "dft_ip = ol.dft_0\n",
    "dft_ip.write(16, in_real.physical_address)\n",
    "dft_ip.write(24, in_imag.physical_address)\n",
    "dft_ip.write(32, out_real.physical_address)\n",
    "dft_ip.write(40, out_imag.physical_address)"
   ]
  },
  {
   "cell_type": "code",
   "execution_count": 6,
   "metadata": {},
   "outputs": [
    {
     "data": {
      "text/plain": [
       "0.5275909900665283"
      ]
     },
     "execution_count": 6,
     "metadata": {},
     "output_type": "execute_result"
    }
   ],
   "source": [
    "start = time()\n",
    "dft_ip.write(0, 0x01)\n",
    "while(dft_ip.read() == 0x01):\n",
    "    sleep(0.01)\n",
    "finish = time()\n",
    "finish - start"
   ]
  },
  {
   "cell_type": "code",
   "execution_count": 7,
   "metadata": {},
   "outputs": [
    {
     "data": {
      "text/plain": [
       "4"
      ]
     },
     "execution_count": 7,
     "metadata": {},
     "output_type": "execute_result"
    }
   ],
   "source": [
    "dft_ip.read(0)"
   ]
  },
  {
   "cell_type": "code",
   "execution_count": 8,
   "metadata": {},
   "outputs": [
    {
     "name": "stdout",
     "output_type": "stream",
     "text": [
      "[ 523776.         166344.59375     82994.53125   ...,  -56145.5625\n",
      "  -83931.8046875 -167349.4375   ]\n",
      "[-523776.          167349.4375       83931.8046875  ...,  -55156.22265625\n",
      "  -82994.53125    -166344.59375   ]\n"
     ]
    }
   ],
   "source": [
    "print(out_real)\n",
    "print(out_imag)"
   ]
  }
 ],
 "metadata": {
  "kernelspec": {
   "display_name": "Python 3",
   "language": "python",
   "name": "python3"
  },
  "language_info": {
   "codemirror_mode": {
    "name": "ipython",
    "version": 3
   },
   "file_extension": ".py",
   "mimetype": "text/x-python",
   "name": "python",
   "nbconvert_exporter": "python",
   "pygments_lexer": "ipython3",
   "version": "3.6.5"
  }
 },
 "nbformat": 4,
 "nbformat_minor": 2
}
